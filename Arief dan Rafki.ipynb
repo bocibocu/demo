{
 "cells": [
  {
   "cell_type": "markdown",
   "metadata": {},
   "source": [
    "## Tugas Week 1\n",
    "Alifian Arief Rachmadinata (12217004)\n",
    "Muhammad Rafki (12217084)"
   ]
  },
  {
   "cell_type": "code",
   "execution_count": 71,
   "metadata": {},
   "outputs": [],
   "source": [
    "import pandas as pd\n",
    "import numpy as np\n",
    "import sklearn as sk\n",
    "import matplotlib.pyplot as plt"
   ]
  },
  {
   "cell_type": "markdown",
   "metadata": {},
   "source": [
    "# Nomor 1"
   ]
  },
  {
   "cell_type": "code",
   "execution_count": 72,
   "metadata": {},
   "outputs": [
    {
     "data": {
      "text/html": [
       "<div>\n",
       "<style scoped>\n",
       "    .dataframe tbody tr th:only-of-type {\n",
       "        vertical-align: middle;\n",
       "    }\n",
       "\n",
       "    .dataframe tbody tr th {\n",
       "        vertical-align: top;\n",
       "    }\n",
       "\n",
       "    .dataframe thead th {\n",
       "        text-align: right;\n",
       "    }\n",
       "</style>\n",
       "<table border=\"1\" class=\"dataframe\">\n",
       "  <thead>\n",
       "    <tr style=\"text-align: right;\">\n",
       "      <th></th>\n",
       "      <th>Qg</th>\n",
       "      <th>Pwf</th>\n",
       "    </tr>\n",
       "  </thead>\n",
       "  <tbody>\n",
       "    <tr>\n",
       "      <th>0</th>\n",
       "      <td>1012</td>\n",
       "      <td>3317</td>\n",
       "    </tr>\n",
       "    <tr>\n",
       "      <th>1</th>\n",
       "      <td>2248</td>\n",
       "      <td>3215</td>\n",
       "    </tr>\n",
       "    <tr>\n",
       "      <th>2</th>\n",
       "      <td>3832</td>\n",
       "      <td>3020</td>\n",
       "    </tr>\n",
       "    <tr>\n",
       "      <th>3</th>\n",
       "      <td>5480</td>\n",
       "      <td>2724</td>\n",
       "    </tr>\n",
       "  </tbody>\n",
       "</table>\n",
       "</div>"
      ],
      "text/plain": [
       "     Qg   Pwf\n",
       "0  1012  3317\n",
       "1  2248  3215\n",
       "2  3832  3020\n",
       "3  5480  2724"
      ]
     },
     "execution_count": 72,
     "metadata": {},
     "output_type": "execute_result"
    }
   ],
   "source": [
    "Data_Example1 = {'Qg':[1012,2248,3832,5480],\n",
    "                'Pwf':[3317,3215,3020,2724]}\n",
    "df = pd.DataFrame(Data_Example1,columns=['Qg','Pwf'])\n",
    "df"
   ]
  },
  {
   "cell_type": "code",
   "execution_count": 73,
   "metadata": {},
   "outputs": [],
   "source": [
    "Pr = 3360 #psia\n",
    "def dpsqr(pwf):\n",
    "    a = Pr**2 - pwf**2\n",
    "    return(a)\n",
    "def count_log10(a):\n",
    "    from math import log10\n",
    "    lg10 = []\n",
    "    for i in range(0,len(a)):\n",
    "        temp = log10(a[i])\n",
    "        lg10.append(temp)\n",
    "    return(lg10)"
   ]
  },
  {
   "cell_type": "code",
   "execution_count": 74,
   "metadata": {},
   "outputs": [
    {
     "data": {
      "text/html": [
       "<div>\n",
       "<style scoped>\n",
       "    .dataframe tbody tr th:only-of-type {\n",
       "        vertical-align: middle;\n",
       "    }\n",
       "\n",
       "    .dataframe tbody tr th {\n",
       "        vertical-align: top;\n",
       "    }\n",
       "\n",
       "    .dataframe thead th {\n",
       "        text-align: right;\n",
       "    }\n",
       "</style>\n",
       "<table border=\"1\" class=\"dataframe\">\n",
       "  <thead>\n",
       "    <tr style=\"text-align: right;\">\n",
       "      <th></th>\n",
       "      <th>Qg</th>\n",
       "      <th>Pwf</th>\n",
       "      <th>Dpsqr</th>\n",
       "    </tr>\n",
       "  </thead>\n",
       "  <tbody>\n",
       "    <tr>\n",
       "      <th>0</th>\n",
       "      <td>1012</td>\n",
       "      <td>3317</td>\n",
       "      <td>287111</td>\n",
       "    </tr>\n",
       "    <tr>\n",
       "      <th>1</th>\n",
       "      <td>2248</td>\n",
       "      <td>3215</td>\n",
       "      <td>953375</td>\n",
       "    </tr>\n",
       "    <tr>\n",
       "      <th>2</th>\n",
       "      <td>3832</td>\n",
       "      <td>3020</td>\n",
       "      <td>2169200</td>\n",
       "    </tr>\n",
       "    <tr>\n",
       "      <th>3</th>\n",
       "      <td>5480</td>\n",
       "      <td>2724</td>\n",
       "      <td>3869424</td>\n",
       "    </tr>\n",
       "  </tbody>\n",
       "</table>\n",
       "</div>"
      ],
      "text/plain": [
       "     Qg   Pwf    Dpsqr\n",
       "0  1012  3317   287111\n",
       "1  2248  3215   953375\n",
       "2  3832  3020  2169200\n",
       "3  5480  2724  3869424"
      ]
     },
     "execution_count": 74,
     "metadata": {},
     "output_type": "execute_result"
    }
   ],
   "source": [
    "Dpsqr = dpsqr(np.asarray(df.Pwf))\n",
    "df['Dpsqr']=pd.Series(Dpsqr)\n",
    "df"
   ]
  },
  {
   "cell_type": "code",
   "execution_count": 75,
   "metadata": {},
   "outputs": [
    {
     "data": {
      "text/plain": [
       "<matplotlib.axes._subplots.AxesSubplot at 0x9205fd0>"
      ]
     },
     "execution_count": 75,
     "metadata": {},
     "output_type": "execute_result"
    },
    {
     "data": {
      "image/png": "[encoded data removed]",
      "text/plain": [
       "<Figure size 432x288 with 1 Axes>"
      ]
     },
     "metadata": {
      "needs_background": "light"
     },
     "output_type": "display_data"
    }
   ],
   "source": [
    "df.plot(kind='line',x='Qg',y='Dpsqr',color='blue',style='.-',loglog=True)"
   ]
  },
  {
   "cell_type": "code",
   "execution_count": 76,
   "metadata": {},
   "outputs": [
    {
     "name": "stdout",
     "output_type": "stream",
     "text": [
      "m = 1.5360791315644635\n",
      "n = 0.6510081280653306\n"
     ]
    }
   ],
   "source": [
    "logDpsqr = count_log10(df.Dpsqr)\n",
    "logQg = count_log10(df.Qg)\n",
    "m,b = np.polyfit(logQg,logDpsqr,1)\n",
    "n = 1/m\n",
    "print('m =',m)\n",
    "print('n =',n)"
   ]
  },
  {
   "cell_type": "code",
   "execution_count": 77,
   "metadata": {},
   "outputs": [
    {
     "name": "stdout",
     "output_type": "stream",
     "text": [
      "C = 0.2873710148606728\n"
     ]
    }
   ],
   "source": [
    "# Qg = C*(Pr**2-Pwf**2)**n\n",
    "# Titik ke-tiga\n",
    "C = (df.Qg[2]/(df.Dpsqr[2]**n))\n",
    "print('C =',C)"
   ]
  },
  {
   "cell_type": "code",
   "execution_count": 78,
   "metadata": {},
   "outputs": [
    {
     "name": "stdout",
     "output_type": "stream",
     "text": [
      "AOF = 11214.725568531141  mscf/d\n"
     ]
    }
   ],
   "source": [
    "# AOF\n",
    "Patm = 14.65 #psia\n",
    "AOF = C*dpsqr(Patm)**n\n",
    "print('AOF =',AOF,' mscf/d')"
   ]
  },
  {
   "cell_type": "code",
   "execution_count": 79,
   "metadata": {},
   "outputs": [
    {
     "data": {
      "image/png": "[encoded data removed]",
      "text/plain": [
       "<Figure size 432x288 with 1 Axes>"
      ]
     },
     "metadata": {
      "needs_background": "light"
     },
     "output_type": "display_data"
    }
   ],
   "source": [
    "pwf = np.arange(14.65,3360,100)\n",
    "qg = C*(dpsqr(pwf))**n\n",
    "plt.scatter(qg,pwf,alpha=0.5)\n",
    "plt.title('Fetkovich IPR Inflow')\n",
    "plt.xlabel('Qg, mscf/d')\n",
    "plt.ylabel('Pwf, psia')\n",
    "plt.show()"
   ]
  },
  {
   "cell_type": "markdown",
   "metadata": {},
   "source": [
    "# Nomor 2"
   ]
  },
  {
   "cell_type": "code",
   "execution_count": 80,
   "metadata": {},
   "outputs": [],
   "source": [
    "#Initialize reservoir and fluid parameters\n",
    "k = 150 #md\n",
    "h = 100 #ft\n",
    "PRg = 4000 #psi\n",
    "Pwfg= 3600 #psi\n",
    "Re = 2500 #ft\n",
    "Rw = 0.33 #ft\n",
    "Temp = 690 #R\n",
    "Skin = 6 #Dimensionless\n",
    "D = 4.3E-5 #Dimensionless\n",
    "#PVT Table\n",
    "GasPVT = {'PwfGasRange': [5000, 4000, 3897, 3500, 3000, 2500, 2000, 1500, 1000, 500, 14.7],\n",
    "          'Zfact': [1.023, 0.9539, 0.9476, 0.9295, 0.9121, 0.9022, 0.9013, 0.9106, 0.9301, 0.9596, 0.9986],\n",
    "          'GasVisc': [0.0275, 0.024, 0.0236, 0.022, 0.02, 0.0182, 0.0166, 0.0153, 0.0144, 0.0137, 0.0132],\n",
    "          'GasBg': [0.004089, 0.004769, 0.004863, 0.005301, 0.006056, 0.007175,0.008946, 0.012034, 0.018424, 0.038039, 1.35459]\n",
    "         }"
   ]
  },
  {
   "cell_type": "code",
   "execution_count": 81,
   "metadata": {
    "scrolled": true
   },
   "outputs": [
    {
     "data": {
      "text/html": [
       "<div>\n",
       "<style scoped>\n",
       "    .dataframe tbody tr th:only-of-type {\n",
       "        vertical-align: middle;\n",
       "    }\n",
       "\n",
       "    .dataframe tbody tr th {\n",
       "        vertical-align: top;\n",
       "    }\n",
       "\n",
       "    .dataframe thead th {\n",
       "        text-align: right;\n",
       "    }\n",
       "</style>\n",
       "<table border=\"1\" class=\"dataframe\">\n",
       "  <thead>\n",
       "    <tr style=\"text-align: right;\">\n",
       "      <th></th>\n",
       "      <th>PwfGasRange</th>\n",
       "      <th>Zfact</th>\n",
       "      <th>GasVisc</th>\n",
       "      <th>GasBg</th>\n",
       "    </tr>\n",
       "  </thead>\n",
       "  <tbody>\n",
       "    <tr>\n",
       "      <th>0</th>\n",
       "      <td>5000.0</td>\n",
       "      <td>1.0230</td>\n",
       "      <td>0.0275</td>\n",
       "      <td>0.004089</td>\n",
       "    </tr>\n",
       "    <tr>\n",
       "      <th>1</th>\n",
       "      <td>4000.0</td>\n",
       "      <td>0.9539</td>\n",
       "      <td>0.0240</td>\n",
       "      <td>0.004769</td>\n",
       "    </tr>\n",
       "    <tr>\n",
       "      <th>2</th>\n",
       "      <td>3897.0</td>\n",
       "      <td>0.9476</td>\n",
       "      <td>0.0236</td>\n",
       "      <td>0.004863</td>\n",
       "    </tr>\n",
       "    <tr>\n",
       "      <th>3</th>\n",
       "      <td>3500.0</td>\n",
       "      <td>0.9295</td>\n",
       "      <td>0.0220</td>\n",
       "      <td>0.005301</td>\n",
       "    </tr>\n",
       "    <tr>\n",
       "      <th>4</th>\n",
       "      <td>3000.0</td>\n",
       "      <td>0.9121</td>\n",
       "      <td>0.0200</td>\n",
       "      <td>0.006056</td>\n",
       "    </tr>\n",
       "    <tr>\n",
       "      <th>5</th>\n",
       "      <td>2500.0</td>\n",
       "      <td>0.9022</td>\n",
       "      <td>0.0182</td>\n",
       "      <td>0.007175</td>\n",
       "    </tr>\n",
       "    <tr>\n",
       "      <th>6</th>\n",
       "      <td>2000.0</td>\n",
       "      <td>0.9013</td>\n",
       "      <td>0.0166</td>\n",
       "      <td>0.008946</td>\n",
       "    </tr>\n",
       "    <tr>\n",
       "      <th>7</th>\n",
       "      <td>1500.0</td>\n",
       "      <td>0.9106</td>\n",
       "      <td>0.0153</td>\n",
       "      <td>0.012034</td>\n",
       "    </tr>\n",
       "    <tr>\n",
       "      <th>8</th>\n",
       "      <td>1000.0</td>\n",
       "      <td>0.9301</td>\n",
       "      <td>0.0144</td>\n",
       "      <td>0.018424</td>\n",
       "    </tr>\n",
       "    <tr>\n",
       "      <th>9</th>\n",
       "      <td>500.0</td>\n",
       "      <td>0.9596</td>\n",
       "      <td>0.0137</td>\n",
       "      <td>0.038039</td>\n",
       "    </tr>\n",
       "    <tr>\n",
       "      <th>10</th>\n",
       "      <td>14.7</td>\n",
       "      <td>0.9986</td>\n",
       "      <td>0.0132</td>\n",
       "      <td>1.354590</td>\n",
       "    </tr>\n",
       "  </tbody>\n",
       "</table>\n",
       "</div>"
      ],
      "text/plain": [
       "    PwfGasRange   Zfact  GasVisc     GasBg\n",
       "0        5000.0  1.0230   0.0275  0.004089\n",
       "1        4000.0  0.9539   0.0240  0.004769\n",
       "2        3897.0  0.9476   0.0236  0.004863\n",
       "3        3500.0  0.9295   0.0220  0.005301\n",
       "4        3000.0  0.9121   0.0200  0.006056\n",
       "5        2500.0  0.9022   0.0182  0.007175\n",
       "6        2000.0  0.9013   0.0166  0.008946\n",
       "7        1500.0  0.9106   0.0153  0.012034\n",
       "8        1000.0  0.9301   0.0144  0.018424\n",
       "9         500.0  0.9596   0.0137  0.038039\n",
       "10         14.7  0.9986   0.0132  1.354590"
      ]
     },
     "execution_count": 81,
     "metadata": {},
     "output_type": "execute_result"
    }
   ],
   "source": [
    "df2 = pd.DataFrame(GasPVT,columns=['PwfGasRange','Zfact','GasVisc','GasBg'])\n",
    "df2"
   ]
  },
  {
   "cell_type": "markdown",
   "metadata": {},
   "source": [
    "> <h2>Quadratic Equation</h2>\n",
    "\n",
    "<img src=\"https://petrowiki.org/images/f/fe/Vol4_page_0006_eq_004.png\">"
   ]
  },
  {
   "cell_type": "code",
   "execution_count": 82,
   "metadata": {},
   "outputs": [],
   "source": [
    "def a_ex2(miug,zfact):\n",
    "    from math import log\n",
    "    a1 = log(Re/Rw)-(3/4)+Skin\n",
    "    a2 = 1422*Temp/(k*h)\n",
    "    a = a1*a2*miug*zfact\n",
    "    return(a)\n",
    "def b_ex2(miug,zfact):\n",
    "    b = 1422*miug*zfact*Temp*D/(k*h)\n",
    "    return(b)\n",
    "def qg_ex2(a,b,pwf):\n",
    "    q = a**2+4*b*(PRg**2-pwf**2)\n",
    "    qg = (-a+q**(1/2))/(2*b)\n",
    "    return(qg)"
   ]
  },
  {
   "cell_type": "code",
   "execution_count": 83,
   "metadata": {},
   "outputs": [
    {
     "data": {
      "text/html": [
       "<div>\n",
       "<style scoped>\n",
       "    .dataframe tbody tr th:only-of-type {\n",
       "        vertical-align: middle;\n",
       "    }\n",
       "\n",
       "    .dataframe tbody tr th {\n",
       "        vertical-align: top;\n",
       "    }\n",
       "\n",
       "    .dataframe thead th {\n",
       "        text-align: right;\n",
       "    }\n",
       "</style>\n",
       "<table border=\"1\" class=\"dataframe\">\n",
       "  <thead>\n",
       "    <tr style=\"text-align: right;\">\n",
       "      <th></th>\n",
       "      <th>PwfGasRange</th>\n",
       "      <th>Zfact</th>\n",
       "      <th>GasVisc</th>\n",
       "      <th>GasBg</th>\n",
       "      <th>a</th>\n",
       "      <th>b</th>\n",
       "      <th>Qg</th>\n",
       "    </tr>\n",
       "  </thead>\n",
       "  <tbody>\n",
       "    <tr>\n",
       "      <th>0</th>\n",
       "      <td>5000.0</td>\n",
       "      <td>1.0230</td>\n",
       "      <td>0.0275</td>\n",
       "      <td>0.004089</td>\n",
       "      <td>26.099064</td>\n",
       "      <td>0.000079</td>\n",
       "      <td>NaN</td>\n",
       "    </tr>\n",
       "    <tr>\n",
       "      <th>1</th>\n",
       "      <td>4000.0</td>\n",
       "      <td>0.9539</td>\n",
       "      <td>0.0240</td>\n",
       "      <td>0.004769</td>\n",
       "      <td>21.238835</td>\n",
       "      <td>0.000064</td>\n",
       "      <td>0.000000</td>\n",
       "    </tr>\n",
       "    <tr>\n",
       "      <th>2</th>\n",
       "      <td>3897.0</td>\n",
       "      <td>0.9476</td>\n",
       "      <td>0.0236</td>\n",
       "      <td>0.004863</td>\n",
       "      <td>20.746922</td>\n",
       "      <td>0.000063</td>\n",
       "      <td>926.469909</td>\n",
       "    </tr>\n",
       "    <tr>\n",
       "      <th>3</th>\n",
       "      <td>3500.0</td>\n",
       "      <td>0.9295</td>\n",
       "      <td>0.0220</td>\n",
       "      <td>0.005301</td>\n",
       "      <td>18.970933</td>\n",
       "      <td>0.000058</td>\n",
       "      <td>2008.576504</td>\n",
       "    </tr>\n",
       "    <tr>\n",
       "      <th>4</th>\n",
       "      <td>3000.0</td>\n",
       "      <td>0.9121</td>\n",
       "      <td>0.0200</td>\n",
       "      <td>0.006056</td>\n",
       "      <td>16.923456</td>\n",
       "      <td>0.000051</td>\n",
       "      <td>2770.295352</td>\n",
       "    </tr>\n",
       "    <tr>\n",
       "      <th>5</th>\n",
       "      <td>2500.0</td>\n",
       "      <td>0.9022</td>\n",
       "      <td>0.0182</td>\n",
       "      <td>0.007175</td>\n",
       "      <td>15.233189</td>\n",
       "      <td>0.000046</td>\n",
       "      <td>3287.377391</td>\n",
       "    </tr>\n",
       "    <tr>\n",
       "      <th>6</th>\n",
       "      <td>2000.0</td>\n",
       "      <td>0.9013</td>\n",
       "      <td>0.0166</td>\n",
       "      <td>0.008946</td>\n",
       "      <td>13.880147</td>\n",
       "      <td>0.000042</td>\n",
       "      <td>3648.840179</td>\n",
       "    </tr>\n",
       "    <tr>\n",
       "      <th>7</th>\n",
       "      <td>1500.0</td>\n",
       "      <td>0.9106</td>\n",
       "      <td>0.0153</td>\n",
       "      <td>0.012034</td>\n",
       "      <td>12.925153</td>\n",
       "      <td>0.000039</td>\n",
       "      <td>3885.854966</td>\n",
       "    </tr>\n",
       "    <tr>\n",
       "      <th>8</th>\n",
       "      <td>1000.0</td>\n",
       "      <td>0.9301</td>\n",
       "      <td>0.0144</td>\n",
       "      <td>0.018424</td>\n",
       "      <td>12.425353</td>\n",
       "      <td>0.000038</td>\n",
       "      <td>4015.873002</td>\n",
       "    </tr>\n",
       "    <tr>\n",
       "      <th>9</th>\n",
       "      <td>500.0</td>\n",
       "      <td>0.9596</td>\n",
       "      <td>0.0137</td>\n",
       "      <td>0.038039</td>\n",
       "      <td>12.196281</td>\n",
       "      <td>0.000037</td>\n",
       "      <td>4051.299908</td>\n",
       "    </tr>\n",
       "    <tr>\n",
       "      <th>10</th>\n",
       "      <td>14.7</td>\n",
       "      <td>0.9986</td>\n",
       "      <td>0.0132</td>\n",
       "      <td>1.354590</td>\n",
       "      <td>12.228751</td>\n",
       "      <td>0.000037</td>\n",
       "      <td>4002.769304</td>\n",
       "    </tr>\n",
       "  </tbody>\n",
       "</table>\n",
       "</div>"
      ],
      "text/plain": [
       "    PwfGasRange   Zfact  GasVisc     GasBg          a         b           Qg\n",
       "0        5000.0  1.0230   0.0275  0.004089  26.099064  0.000079          NaN\n",
       "1        4000.0  0.9539   0.0240  0.004769  21.238835  0.000064     0.000000\n",
       "2        3897.0  0.9476   0.0236  0.004863  20.746922  0.000063   926.469909\n",
       "3        3500.0  0.9295   0.0220  0.005301  18.970933  0.000058  2008.576504\n",
       "4        3000.0  0.9121   0.0200  0.006056  16.923456  0.000051  2770.295352\n",
       "5        2500.0  0.9022   0.0182  0.007175  15.233189  0.000046  3287.377391\n",
       "6        2000.0  0.9013   0.0166  0.008946  13.880147  0.000042  3648.840179\n",
       "7        1500.0  0.9106   0.0153  0.012034  12.925153  0.000039  3885.854966\n",
       "8        1000.0  0.9301   0.0144  0.018424  12.425353  0.000038  4015.873002\n",
       "9         500.0  0.9596   0.0137  0.038039  12.196281  0.000037  4051.299908\n",
       "10         14.7  0.9986   0.0132  1.354590  12.228751  0.000037  4002.769304"
      ]
     },
     "execution_count": 83,
     "metadata": {},
     "output_type": "execute_result"
    }
   ],
   "source": [
    "a = a_ex2(df2.GasVisc,df2.Zfact)\n",
    "b = b_ex2(df2.GasVisc,df2.Zfact)\n",
    "qg = qg_ex2(df2.GasVisc,df2.Zfact,df2.PwfGasRange)\n",
    "\n",
    "df2['a']=pd.Series(a)\n",
    "df2['b']=pd.Series(b)\n",
    "df2['Qg']=pd.Series(qg)\n",
    "df2"
   ]
  },
  {
   "cell_type": "code",
   "execution_count": 84,
   "metadata": {},
   "outputs": [],
   "source": [
    "df2n = df2.iloc[1:].reset_index(drop=True)"
   ]
  },
  {
   "cell_type": "code",
   "execution_count": 85,
   "metadata": {},
   "outputs": [
    {
     "data": {
      "text/html": [
       "<div>\n",
       "<style scoped>\n",
       "    .dataframe tbody tr th:only-of-type {\n",
       "        vertical-align: middle;\n",
       "    }\n",
       "\n",
       "    .dataframe tbody tr th {\n",
       "        vertical-align: top;\n",
       "    }\n",
       "\n",
       "    .dataframe thead th {\n",
       "        text-align: right;\n",
       "    }\n",
       "</style>\n",
       "<table border=\"1\" class=\"dataframe\">\n",
       "  <thead>\n",
       "    <tr style=\"text-align: right;\">\n",
       "      <th></th>\n",
       "      <th>PwfGasRange</th>\n",
       "      <th>Zfact</th>\n",
       "      <th>GasVisc</th>\n",
       "      <th>GasBg</th>\n",
       "      <th>a</th>\n",
       "      <th>b</th>\n",
       "      <th>Qg</th>\n",
       "    </tr>\n",
       "  </thead>\n",
       "  <tbody>\n",
       "    <tr>\n",
       "      <th>0</th>\n",
       "      <td>4000.0</td>\n",
       "      <td>0.9539</td>\n",
       "      <td>0.0240</td>\n",
       "      <td>0.004769</td>\n",
       "      <td>21.238835</td>\n",
       "      <td>0.000064</td>\n",
       "      <td>0.000000</td>\n",
       "    </tr>\n",
       "    <tr>\n",
       "      <th>1</th>\n",
       "      <td>3897.0</td>\n",
       "      <td>0.9476</td>\n",
       "      <td>0.0236</td>\n",
       "      <td>0.004863</td>\n",
       "      <td>20.746922</td>\n",
       "      <td>0.000063</td>\n",
       "      <td>926.469909</td>\n",
       "    </tr>\n",
       "    <tr>\n",
       "      <th>2</th>\n",
       "      <td>3500.0</td>\n",
       "      <td>0.9295</td>\n",
       "      <td>0.0220</td>\n",
       "      <td>0.005301</td>\n",
       "      <td>18.970933</td>\n",
       "      <td>0.000058</td>\n",
       "      <td>2008.576504</td>\n",
       "    </tr>\n",
       "    <tr>\n",
       "      <th>3</th>\n",
       "      <td>3000.0</td>\n",
       "      <td>0.9121</td>\n",
       "      <td>0.0200</td>\n",
       "      <td>0.006056</td>\n",
       "      <td>16.923456</td>\n",
       "      <td>0.000051</td>\n",
       "      <td>2770.295352</td>\n",
       "    </tr>\n",
       "    <tr>\n",
       "      <th>4</th>\n",
       "      <td>2500.0</td>\n",
       "      <td>0.9022</td>\n",
       "      <td>0.0182</td>\n",
       "      <td>0.007175</td>\n",
       "      <td>15.233189</td>\n",
       "      <td>0.000046</td>\n",
       "      <td>3287.377391</td>\n",
       "    </tr>\n",
       "    <tr>\n",
       "      <th>5</th>\n",
       "      <td>2000.0</td>\n",
       "      <td>0.9013</td>\n",
       "      <td>0.0166</td>\n",
       "      <td>0.008946</td>\n",
       "      <td>13.880147</td>\n",
       "      <td>0.000042</td>\n",
       "      <td>3648.840179</td>\n",
       "    </tr>\n",
       "    <tr>\n",
       "      <th>6</th>\n",
       "      <td>1500.0</td>\n",
       "      <td>0.9106</td>\n",
       "      <td>0.0153</td>\n",
       "      <td>0.012034</td>\n",
       "      <td>12.925153</td>\n",
       "      <td>0.000039</td>\n",
       "      <td>3885.854966</td>\n",
       "    </tr>\n",
       "    <tr>\n",
       "      <th>7</th>\n",
       "      <td>1000.0</td>\n",
       "      <td>0.9301</td>\n",
       "      <td>0.0144</td>\n",
       "      <td>0.018424</td>\n",
       "      <td>12.425353</td>\n",
       "      <td>0.000038</td>\n",
       "      <td>4015.873002</td>\n",
       "    </tr>\n",
       "    <tr>\n",
       "      <th>8</th>\n",
       "      <td>500.0</td>\n",
       "      <td>0.9596</td>\n",
       "      <td>0.0137</td>\n",
       "      <td>0.038039</td>\n",
       "      <td>12.196281</td>\n",
       "      <td>0.000037</td>\n",
       "      <td>4051.299908</td>\n",
       "    </tr>\n",
       "    <tr>\n",
       "      <th>9</th>\n",
       "      <td>14.7</td>\n",
       "      <td>0.9986</td>\n",
       "      <td>0.0132</td>\n",
       "      <td>1.354590</td>\n",
       "      <td>12.228751</td>\n",
       "      <td>0.000037</td>\n",
       "      <td>4002.769304</td>\n",
       "    </tr>\n",
       "  </tbody>\n",
       "</table>\n",
       "</div>"
      ],
      "text/plain": [
       "   PwfGasRange   Zfact  GasVisc     GasBg          a         b           Qg\n",
       "0       4000.0  0.9539   0.0240  0.004769  21.238835  0.000064     0.000000\n",
       "1       3897.0  0.9476   0.0236  0.004863  20.746922  0.000063   926.469909\n",
       "2       3500.0  0.9295   0.0220  0.005301  18.970933  0.000058  2008.576504\n",
       "3       3000.0  0.9121   0.0200  0.006056  16.923456  0.000051  2770.295352\n",
       "4       2500.0  0.9022   0.0182  0.007175  15.233189  0.000046  3287.377391\n",
       "5       2000.0  0.9013   0.0166  0.008946  13.880147  0.000042  3648.840179\n",
       "6       1500.0  0.9106   0.0153  0.012034  12.925153  0.000039  3885.854966\n",
       "7       1000.0  0.9301   0.0144  0.018424  12.425353  0.000038  4015.873002\n",
       "8        500.0  0.9596   0.0137  0.038039  12.196281  0.000037  4051.299908\n",
       "9         14.7  0.9986   0.0132  1.354590  12.228751  0.000037  4002.769304"
      ]
     },
     "execution_count": 85,
     "metadata": {},
     "output_type": "execute_result"
    }
   ],
   "source": [
    "df2n"
   ]
  },
  {
   "cell_type": "code",
   "execution_count": 86,
   "metadata": {},
   "outputs": [],
   "source": [
    "def interpolate(x,y,on_x):\n",
    "    m = (y[1]-y[0])/(x[1]-x[0])\n",
    "    y1 = y[0]+m*(on_x-x[0])\n",
    "    return(y1)"
   ]
  },
  {
   "cell_type": "code",
   "execution_count": 87,
   "metadata": {},
   "outputs": [
    {
     "name": "stdout",
     "output_type": "stream",
     "text": [
      "Pwf = 20% PRg, Qg = 4030.0437643357814 mscf/d\n"
     ]
    }
   ],
   "source": [
    "Qg_PRg20 = interpolate(np.asarray(df2n.PwfGasRange[7:9]),np.asarray(df2n.Qg[7:9]),800)\n",
    "print('Pwf = 20% PRg, Qg =',Qg_PRg20,'mscf/d')"
   ]
  },
  {
   "cell_type": "code",
   "execution_count": 88,
   "metadata": {},
   "outputs": [
    {
     "name": "stdout",
     "output_type": "stream",
     "text": [
      "AOF = 4002.769303917692  mscf/d\n"
     ]
    }
   ],
   "source": [
    "print('AOF =',df2n.Qg[9],' mscf/d')"
   ]
  },
  {
   "cell_type": "code",
   "execution_count": 89,
   "metadata": {},
   "outputs": [
    {
     "data": {
      "image/png": "[encoded data removed]",
      "text/plain": [
       "<Figure size 432x288 with 1 Axes>"
      ]
     },
     "metadata": {
      "needs_background": "light"
     },
     "output_type": "display_data"
    }
   ],
   "source": [
    "df2n.plot(kind='line',x='Qg',y='PwfGasRange',style='.-',color='orange')\n",
    "plt.title('Gas Rate vs PwfGasRange Plot')\n",
    "plt.xlabel('Qg, Mscf/d')\n",
    "plt.ylabel('Pwf, psia')\n",
    "plt.show()"
   ]
  },
  {
   "cell_type": "code",
   "execution_count": null,
   "metadata": {},
   "outputs": [],
   "source": []
  },
  {
   "cell_type": "code",
   "execution_count": null,
   "metadata": {},
   "outputs": [],
   "source": []
  }
 ],
 "metadata": {
  "kernelspec": {
   "display_name": "Python 3",
   "language": "python",
   "name": "python3"
  },
  "language_info": {
   "codemirror_mode": {
    "name": "ipython",
    "version": 3
   },
   "file_extension": ".py",
   "mimetype": "text/x-python",
   "name": "python",
   "nbconvert_exporter": "python",
   "pygments_lexer": "ipython3",
   "version": "3.7.6"
  }
 },
 "nbformat": 4,
 "nbformat_minor": 4
}
